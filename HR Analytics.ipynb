{
 "cells": [
  {
   "cell_type": "code",
   "execution_count": 1,
   "id": "254c4170",
   "metadata": {},
   "outputs": [],
   "source": [
    "# Installed important Libraries \n",
    "import pandas as pd\n",
    "import numpy as np\n",
    "import seaborn as sns\n",
    "import matplotlib.pyplot as plt\n",
    "%matplotlib inline"
   ]
  },
  {
   "cell_type": "code",
   "execution_count": 2,
   "id": "18dc8ea7",
   "metadata": {},
   "outputs": [
    {
     "name": "stdout",
     "output_type": "stream",
     "text": [
      "/Users/junaidsheikh/Desktop/Python/Hr analytics\n"
     ]
    }
   ],
   "source": [
    "import io\n",
    "%cd '/Users/junaidsheikh/Desktop/Python/Hr analytics'"
   ]
  },
  {
   "cell_type": "code",
   "execution_count": 3,
   "id": "5bf1036f",
   "metadata": {},
   "outputs": [],
   "source": [
    "train_df=pd.read_csv('train.csv')\n",
    "test_df=pd.read_csv('test.csv')"
   ]
  },
  {
   "cell_type": "code",
   "execution_count": 4,
   "id": "e001fe22",
   "metadata": {},
   "outputs": [
    {
     "name": "stdout",
     "output_type": "stream",
     "text": [
      "<class 'pandas.core.frame.DataFrame'>\n",
      "RangeIndex: 54808 entries, 0 to 54807\n",
      "Data columns (total 14 columns):\n",
      " #   Column                Non-Null Count  Dtype  \n",
      "---  ------                --------------  -----  \n",
      " 0   employee_id           54808 non-null  int64  \n",
      " 1   department            54808 non-null  object \n",
      " 2   region                54808 non-null  object \n",
      " 3   education             52399 non-null  object \n",
      " 4   gender                54808 non-null  object \n",
      " 5   recruitment_channel   54808 non-null  object \n",
      " 6   no_of_trainings       54808 non-null  int64  \n",
      " 7   age                   54808 non-null  int64  \n",
      " 8   previous_year_rating  50684 non-null  float64\n",
      " 9   length_of_service     54808 non-null  int64  \n",
      " 10  KPIs_met >80%         54808 non-null  int64  \n",
      " 11  awards_won?           54808 non-null  int64  \n",
      " 12  avg_training_score    54808 non-null  int64  \n",
      " 13  is_promoted           54808 non-null  int64  \n",
      "dtypes: float64(1), int64(8), object(5)\n",
      "memory usage: 5.9+ MB\n"
     ]
    }
   ],
   "source": [
    "# Understanding the number of observation and data type prensent in the Dataframe\n",
    "train_df.info()"
   ]
  },
  {
   "cell_type": "code",
   "execution_count": 5,
   "id": "dfa3ad4c",
   "metadata": {},
   "outputs": [
    {
     "name": "stdout",
     "output_type": "stream",
     "text": [
      "<class 'pandas.core.frame.DataFrame'>\n",
      "RangeIndex: 23490 entries, 0 to 23489\n",
      "Data columns (total 13 columns):\n",
      " #   Column                Non-Null Count  Dtype  \n",
      "---  ------                --------------  -----  \n",
      " 0   employee_id           23490 non-null  int64  \n",
      " 1   department            23490 non-null  object \n",
      " 2   region                23490 non-null  object \n",
      " 3   education             22456 non-null  object \n",
      " 4   gender                23490 non-null  object \n",
      " 5   recruitment_channel   23490 non-null  object \n",
      " 6   no_of_trainings       23490 non-null  int64  \n",
      " 7   age                   23490 non-null  int64  \n",
      " 8   previous_year_rating  21678 non-null  float64\n",
      " 9   length_of_service     23490 non-null  int64  \n",
      " 10  KPIs_met >80%         23490 non-null  int64  \n",
      " 11  awards_won?           23490 non-null  int64  \n",
      " 12  avg_training_score    23490 non-null  int64  \n",
      "dtypes: float64(1), int64(7), object(5)\n",
      "memory usage: 2.3+ MB\n"
     ]
    }
   ],
   "source": [
    "test_df.info()"
   ]
  },
  {
   "cell_type": "code",
   "execution_count": 6,
   "id": "adb67c90",
   "metadata": {},
   "outputs": [
    {
     "data": {
      "text/html": [
       "<div>\n",
       "<style scoped>\n",
       "    .dataframe tbody tr th:only-of-type {\n",
       "        vertical-align: middle;\n",
       "    }\n",
       "\n",
       "    .dataframe tbody tr th {\n",
       "        vertical-align: top;\n",
       "    }\n",
       "\n",
       "    .dataframe thead th {\n",
       "        text-align: right;\n",
       "    }\n",
       "</style>\n",
       "<table border=\"1\" class=\"dataframe\">\n",
       "  <thead>\n",
       "    <tr style=\"text-align: right;\">\n",
       "      <th></th>\n",
       "      <th>employee_id</th>\n",
       "      <th>department</th>\n",
       "      <th>region</th>\n",
       "      <th>education</th>\n",
       "      <th>gender</th>\n",
       "      <th>recruitment_channel</th>\n",
       "      <th>no_of_trainings</th>\n",
       "      <th>age</th>\n",
       "      <th>previous_year_rating</th>\n",
       "      <th>length_of_service</th>\n",
       "      <th>KPIs_met &gt;80%</th>\n",
       "      <th>awards_won?</th>\n",
       "      <th>avg_training_score</th>\n",
       "      <th>is_promoted</th>\n",
       "    </tr>\n",
       "  </thead>\n",
       "  <tbody>\n",
       "    <tr>\n",
       "      <th>0</th>\n",
       "      <td>65438</td>\n",
       "      <td>Sales &amp; Marketing</td>\n",
       "      <td>region_7</td>\n",
       "      <td>Master's &amp; above</td>\n",
       "      <td>f</td>\n",
       "      <td>sourcing</td>\n",
       "      <td>1</td>\n",
       "      <td>35</td>\n",
       "      <td>5.0</td>\n",
       "      <td>8</td>\n",
       "      <td>1</td>\n",
       "      <td>0</td>\n",
       "      <td>49</td>\n",
       "      <td>0</td>\n",
       "    </tr>\n",
       "    <tr>\n",
       "      <th>1</th>\n",
       "      <td>65141</td>\n",
       "      <td>Operations</td>\n",
       "      <td>region_22</td>\n",
       "      <td>Bachelor's</td>\n",
       "      <td>m</td>\n",
       "      <td>other</td>\n",
       "      <td>1</td>\n",
       "      <td>30</td>\n",
       "      <td>5.0</td>\n",
       "      <td>4</td>\n",
       "      <td>0</td>\n",
       "      <td>0</td>\n",
       "      <td>60</td>\n",
       "      <td>0</td>\n",
       "    </tr>\n",
       "    <tr>\n",
       "      <th>2</th>\n",
       "      <td>7513</td>\n",
       "      <td>Sales &amp; Marketing</td>\n",
       "      <td>region_19</td>\n",
       "      <td>Bachelor's</td>\n",
       "      <td>m</td>\n",
       "      <td>sourcing</td>\n",
       "      <td>1</td>\n",
       "      <td>34</td>\n",
       "      <td>3.0</td>\n",
       "      <td>7</td>\n",
       "      <td>0</td>\n",
       "      <td>0</td>\n",
       "      <td>50</td>\n",
       "      <td>0</td>\n",
       "    </tr>\n",
       "    <tr>\n",
       "      <th>3</th>\n",
       "      <td>2542</td>\n",
       "      <td>Sales &amp; Marketing</td>\n",
       "      <td>region_23</td>\n",
       "      <td>Bachelor's</td>\n",
       "      <td>m</td>\n",
       "      <td>other</td>\n",
       "      <td>2</td>\n",
       "      <td>39</td>\n",
       "      <td>1.0</td>\n",
       "      <td>10</td>\n",
       "      <td>0</td>\n",
       "      <td>0</td>\n",
       "      <td>50</td>\n",
       "      <td>0</td>\n",
       "    </tr>\n",
       "    <tr>\n",
       "      <th>4</th>\n",
       "      <td>48945</td>\n",
       "      <td>Technology</td>\n",
       "      <td>region_26</td>\n",
       "      <td>Bachelor's</td>\n",
       "      <td>m</td>\n",
       "      <td>other</td>\n",
       "      <td>1</td>\n",
       "      <td>45</td>\n",
       "      <td>3.0</td>\n",
       "      <td>2</td>\n",
       "      <td>0</td>\n",
       "      <td>0</td>\n",
       "      <td>73</td>\n",
       "      <td>0</td>\n",
       "    </tr>\n",
       "  </tbody>\n",
       "</table>\n",
       "</div>"
      ],
      "text/plain": [
       "   employee_id         department     region         education gender  \\\n",
       "0        65438  Sales & Marketing   region_7  Master's & above      f   \n",
       "1        65141         Operations  region_22        Bachelor's      m   \n",
       "2         7513  Sales & Marketing  region_19        Bachelor's      m   \n",
       "3         2542  Sales & Marketing  region_23        Bachelor's      m   \n",
       "4        48945         Technology  region_26        Bachelor's      m   \n",
       "\n",
       "  recruitment_channel  no_of_trainings  age  previous_year_rating  \\\n",
       "0            sourcing                1   35                   5.0   \n",
       "1               other                1   30                   5.0   \n",
       "2            sourcing                1   34                   3.0   \n",
       "3               other                2   39                   1.0   \n",
       "4               other                1   45                   3.0   \n",
       "\n",
       "   length_of_service  KPIs_met >80%  awards_won?  avg_training_score  \\\n",
       "0                  8              1            0                  49   \n",
       "1                  4              0            0                  60   \n",
       "2                  7              0            0                  50   \n",
       "3                 10              0            0                  50   \n",
       "4                  2              0            0                  73   \n",
       "\n",
       "   is_promoted  \n",
       "0            0  \n",
       "1            0  \n",
       "2            0  \n",
       "3            0  \n",
       "4            0  "
      ]
     },
     "execution_count": 6,
     "metadata": {},
     "output_type": "execute_result"
    }
   ],
   "source": [
    "# top 5 observations \n",
    "train_df.head()"
   ]
  },
  {
   "cell_type": "code",
   "execution_count": 7,
   "id": "0e54cb3f",
   "metadata": {},
   "outputs": [],
   "source": [
    "# Extracting numeric column\n",
    "numericol=train_df.select_dtypes(include=np.number)"
   ]
  },
  {
   "cell_type": "code",
   "execution_count": 8,
   "id": "39644053",
   "metadata": {},
   "outputs": [
    {
     "name": "stdout",
     "output_type": "stream",
     "text": [
      "<class 'pandas.core.frame.DataFrame'>\n",
      "RangeIndex: 54808 entries, 0 to 54807\n",
      "Data columns (total 9 columns):\n",
      " #   Column                Non-Null Count  Dtype  \n",
      "---  ------                --------------  -----  \n",
      " 0   employee_id           54808 non-null  int64  \n",
      " 1   no_of_trainings       54808 non-null  int64  \n",
      " 2   age                   54808 non-null  int64  \n",
      " 3   previous_year_rating  50684 non-null  float64\n",
      " 4   length_of_service     54808 non-null  int64  \n",
      " 5   KPIs_met >80%         54808 non-null  int64  \n",
      " 6   awards_won?           54808 non-null  int64  \n",
      " 7   avg_training_score    54808 non-null  int64  \n",
      " 8   is_promoted           54808 non-null  int64  \n",
      "dtypes: float64(1), int64(8)\n",
      "memory usage: 3.8 MB\n"
     ]
    }
   ],
   "source": [
    "numericol.info()"
   ]
  },
  {
   "cell_type": "code",
   "execution_count": 9,
   "id": "f60ac938",
   "metadata": {},
   "outputs": [
    {
     "data": {
      "text/html": [
       "<div>\n",
       "<style scoped>\n",
       "    .dataframe tbody tr th:only-of-type {\n",
       "        vertical-align: middle;\n",
       "    }\n",
       "\n",
       "    .dataframe tbody tr th {\n",
       "        vertical-align: top;\n",
       "    }\n",
       "\n",
       "    .dataframe thead th {\n",
       "        text-align: right;\n",
       "    }\n",
       "</style>\n",
       "<table border=\"1\" class=\"dataframe\">\n",
       "  <thead>\n",
       "    <tr style=\"text-align: right;\">\n",
       "      <th></th>\n",
       "      <th>employee_id</th>\n",
       "      <th>no_of_trainings</th>\n",
       "      <th>age</th>\n",
       "      <th>previous_year_rating</th>\n",
       "      <th>length_of_service</th>\n",
       "      <th>KPIs_met &gt;80%</th>\n",
       "      <th>awards_won?</th>\n",
       "      <th>avg_training_score</th>\n",
       "      <th>is_promoted</th>\n",
       "    </tr>\n",
       "  </thead>\n",
       "  <tbody>\n",
       "    <tr>\n",
       "      <th>count</th>\n",
       "      <td>54808.000000</td>\n",
       "      <td>54808.000000</td>\n",
       "      <td>54808.000000</td>\n",
       "      <td>50684.000000</td>\n",
       "      <td>54808.000000</td>\n",
       "      <td>54808.000000</td>\n",
       "      <td>54808.000000</td>\n",
       "      <td>54808.000000</td>\n",
       "      <td>54808.000000</td>\n",
       "    </tr>\n",
       "    <tr>\n",
       "      <th>mean</th>\n",
       "      <td>39195.830627</td>\n",
       "      <td>1.253011</td>\n",
       "      <td>34.803915</td>\n",
       "      <td>3.329256</td>\n",
       "      <td>5.865512</td>\n",
       "      <td>0.351974</td>\n",
       "      <td>0.023172</td>\n",
       "      <td>63.386750</td>\n",
       "      <td>0.085170</td>\n",
       "    </tr>\n",
       "    <tr>\n",
       "      <th>std</th>\n",
       "      <td>22586.581449</td>\n",
       "      <td>0.609264</td>\n",
       "      <td>7.660169</td>\n",
       "      <td>1.259993</td>\n",
       "      <td>4.265094</td>\n",
       "      <td>0.477590</td>\n",
       "      <td>0.150450</td>\n",
       "      <td>13.371559</td>\n",
       "      <td>0.279137</td>\n",
       "    </tr>\n",
       "    <tr>\n",
       "      <th>min</th>\n",
       "      <td>1.000000</td>\n",
       "      <td>1.000000</td>\n",
       "      <td>20.000000</td>\n",
       "      <td>1.000000</td>\n",
       "      <td>1.000000</td>\n",
       "      <td>0.000000</td>\n",
       "      <td>0.000000</td>\n",
       "      <td>39.000000</td>\n",
       "      <td>0.000000</td>\n",
       "    </tr>\n",
       "    <tr>\n",
       "      <th>25%</th>\n",
       "      <td>19669.750000</td>\n",
       "      <td>1.000000</td>\n",
       "      <td>29.000000</td>\n",
       "      <td>3.000000</td>\n",
       "      <td>3.000000</td>\n",
       "      <td>0.000000</td>\n",
       "      <td>0.000000</td>\n",
       "      <td>51.000000</td>\n",
       "      <td>0.000000</td>\n",
       "    </tr>\n",
       "    <tr>\n",
       "      <th>50%</th>\n",
       "      <td>39225.500000</td>\n",
       "      <td>1.000000</td>\n",
       "      <td>33.000000</td>\n",
       "      <td>3.000000</td>\n",
       "      <td>5.000000</td>\n",
       "      <td>0.000000</td>\n",
       "      <td>0.000000</td>\n",
       "      <td>60.000000</td>\n",
       "      <td>0.000000</td>\n",
       "    </tr>\n",
       "    <tr>\n",
       "      <th>75%</th>\n",
       "      <td>58730.500000</td>\n",
       "      <td>1.000000</td>\n",
       "      <td>39.000000</td>\n",
       "      <td>4.000000</td>\n",
       "      <td>7.000000</td>\n",
       "      <td>1.000000</td>\n",
       "      <td>0.000000</td>\n",
       "      <td>76.000000</td>\n",
       "      <td>0.000000</td>\n",
       "    </tr>\n",
       "    <tr>\n",
       "      <th>max</th>\n",
       "      <td>78298.000000</td>\n",
       "      <td>10.000000</td>\n",
       "      <td>60.000000</td>\n",
       "      <td>5.000000</td>\n",
       "      <td>37.000000</td>\n",
       "      <td>1.000000</td>\n",
       "      <td>1.000000</td>\n",
       "      <td>99.000000</td>\n",
       "      <td>1.000000</td>\n",
       "    </tr>\n",
       "  </tbody>\n",
       "</table>\n",
       "</div>"
      ],
      "text/plain": [
       "        employee_id  no_of_trainings           age  previous_year_rating  \\\n",
       "count  54808.000000     54808.000000  54808.000000          50684.000000   \n",
       "mean   39195.830627         1.253011     34.803915              3.329256   \n",
       "std    22586.581449         0.609264      7.660169              1.259993   \n",
       "min        1.000000         1.000000     20.000000              1.000000   \n",
       "25%    19669.750000         1.000000     29.000000              3.000000   \n",
       "50%    39225.500000         1.000000     33.000000              3.000000   \n",
       "75%    58730.500000         1.000000     39.000000              4.000000   \n",
       "max    78298.000000        10.000000     60.000000              5.000000   \n",
       "\n",
       "       length_of_service  KPIs_met >80%   awards_won?  avg_training_score  \\\n",
       "count       54808.000000   54808.000000  54808.000000        54808.000000   \n",
       "mean            5.865512       0.351974      0.023172           63.386750   \n",
       "std             4.265094       0.477590      0.150450           13.371559   \n",
       "min             1.000000       0.000000      0.000000           39.000000   \n",
       "25%             3.000000       0.000000      0.000000           51.000000   \n",
       "50%             5.000000       0.000000      0.000000           60.000000   \n",
       "75%             7.000000       1.000000      0.000000           76.000000   \n",
       "max            37.000000       1.000000      1.000000           99.000000   \n",
       "\n",
       "        is_promoted  \n",
       "count  54808.000000  \n",
       "mean       0.085170  \n",
       "std        0.279137  \n",
       "min        0.000000  \n",
       "25%        0.000000  \n",
       "50%        0.000000  \n",
       "75%        0.000000  \n",
       "max        1.000000  "
      ]
     },
     "execution_count": 9,
     "metadata": {},
     "output_type": "execute_result"
    }
   ],
   "source": [
    "#describe helps to understand if there is any deviation between mean and median\n",
    "\n",
    "numericol.describe()"
   ]
  },
  {
   "cell_type": "code",
   "execution_count": 10,
   "id": "80f1a411",
   "metadata": {},
   "outputs": [
    {
     "data": {
      "image/png": "[encoded data removed]",
      "text/plain": [
       "<Figure size 1300x1000 with 2 Axes>"
      ]
     },
     "metadata": {},
     "output_type": "display_data"
    }
   ],
   "source": [
    "# This helps to analyze if any 2 colums are strongly related or not\n",
    "plt.figure(figsize=(13,10))\n",
    "sns.heatmap(numericol.corr(),annot=True,annot_kws={\"size\": 13})\n",
    "plt.show()"
   ]
  },
  {
   "cell_type": "code",
   "execution_count": 11,
   "id": "6c0fd8c2",
   "metadata": {},
   "outputs": [],
   "source": [
    "# Extracting object column\n",
    "objectcol=train_df.select_dtypes(include='object')"
   ]
  },
  {
   "cell_type": "code",
   "execution_count": 12,
   "id": "64f216e5",
   "metadata": {},
   "outputs": [
    {
     "name": "stdout",
     "output_type": "stream",
     "text": [
      "<class 'pandas.core.frame.DataFrame'>\n",
      "RangeIndex: 54808 entries, 0 to 54807\n",
      "Data columns (total 5 columns):\n",
      " #   Column               Non-Null Count  Dtype \n",
      "---  ------               --------------  ----- \n",
      " 0   department           54808 non-null  object\n",
      " 1   region               54808 non-null  object\n",
      " 2   education            52399 non-null  object\n",
      " 3   gender               54808 non-null  object\n",
      " 4   recruitment_channel  54808 non-null  object\n",
      "dtypes: object(5)\n",
      "memory usage: 2.1+ MB\n"
     ]
    }
   ],
   "source": [
    "objectcol.info()"
   ]
  },
  {
   "cell_type": "code",
   "execution_count": 13,
   "id": "018d2b2f",
   "metadata": {},
   "outputs": [
    {
     "data": {
      "text/plain": [
       "Sales & Marketing    16840\n",
       "Operations           11348\n",
       "Technology            7138\n",
       "Procurement           7138\n",
       "Analytics             5352\n",
       "Finance               2536\n",
       "HR                    2418\n",
       "Legal                 1039\n",
       "R&D                    999\n",
       "Name: department, dtype: int64"
      ]
     },
     "execution_count": 13,
     "metadata": {},
     "output_type": "execute_result"
    }
   ],
   "source": [
    "objectcol.department.value_counts()"
   ]
  },
  {
   "cell_type": "code",
   "execution_count": 14,
   "id": "8104a549",
   "metadata": {},
   "outputs": [
    {
     "data": {
      "text/plain": [
       "region_2     12343\n",
       "region_22     6428\n",
       "region_7      4843\n",
       "region_15     2808\n",
       "region_13     2648\n",
       "region_26     2260\n",
       "region_31     1935\n",
       "region_4      1703\n",
       "region_27     1659\n",
       "region_16     1465\n",
       "region_28     1318\n",
       "region_11     1315\n",
       "region_23     1175\n",
       "region_29      994\n",
       "region_32      945\n",
       "region_19      874\n",
       "region_20      850\n",
       "region_14      827\n",
       "region_25      819\n",
       "region_17      796\n",
       "region_5       766\n",
       "region_6       690\n",
       "region_30      657\n",
       "region_8       655\n",
       "region_10      648\n",
       "region_1       610\n",
       "region_24      508\n",
       "region_12      500\n",
       "region_9       420\n",
       "region_21      411\n",
       "region_3       346\n",
       "region_34      292\n",
       "region_33      269\n",
       "region_18       31\n",
       "Name: region, dtype: int64"
      ]
     },
     "execution_count": 14,
     "metadata": {},
     "output_type": "execute_result"
    }
   ],
   "source": [
    "objectcol.region.value_counts()"
   ]
  },
  {
   "cell_type": "code",
   "execution_count": 15,
   "id": "4aa117a2",
   "metadata": {},
   "outputs": [
    {
     "data": {
      "text/plain": [
       "Bachelor's          36669\n",
       "Master's & above    14925\n",
       "Below Secondary       805\n",
       "Name: education, dtype: int64"
      ]
     },
     "execution_count": 15,
     "metadata": {},
     "output_type": "execute_result"
    }
   ],
   "source": [
    "objectcol.education.value_counts()"
   ]
  },
  {
   "cell_type": "code",
   "execution_count": 16,
   "id": "b92d88e7",
   "metadata": {},
   "outputs": [
    {
     "data": {
      "text/plain": [
       "m    38496\n",
       "f    16312\n",
       "Name: gender, dtype: int64"
      ]
     },
     "execution_count": 16,
     "metadata": {},
     "output_type": "execute_result"
    }
   ],
   "source": [
    "objectcol.gender.value_counts()"
   ]
  },
  {
   "cell_type": "code",
   "execution_count": 17,
   "id": "5cc6ee27",
   "metadata": {},
   "outputs": [
    {
     "data": {
      "text/plain": [
       "other       30446\n",
       "sourcing    23220\n",
       "referred     1142\n",
       "Name: recruitment_channel, dtype: int64"
      ]
     },
     "execution_count": 17,
     "metadata": {},
     "output_type": "execute_result"
    }
   ],
   "source": [
    "objectcol.recruitment_channel.value_counts(dropna=False)"
   ]
  },
  {
   "cell_type": "code",
   "execution_count": 18,
   "id": "cc9a86f8",
   "metadata": {},
   "outputs": [
    {
     "data": {
      "image/png": "[encoded data removed]",
      "text/plain": [
       "<Figure size 500x900 with 1 Axes>"
      ]
     },
     "metadata": {},
     "output_type": "display_data"
    }
   ],
   "source": [
    "plt.figure(figsize=(5,9))\n",
    "objectcol.department.value_counts().plot(kind='pie',autopct='%.1f%%')\n",
    "plt.show()"
   ]
  },
  {
   "cell_type": "code",
   "execution_count": 19,
   "id": "550af9f0",
   "metadata": {},
   "outputs": [
    {
     "data": {
      "image/png": "[encoded data removed]",
      "text/plain": [
       "<Figure size 500x900 with 1 Axes>"
      ]
     },
     "metadata": {},
     "output_type": "display_data"
    }
   ],
   "source": [
    "plt.figure(figsize=(5,9))\n",
    "objectcol.gender.value_counts().plot(kind='pie',autopct='%.1f%%')\n",
    "plt.show()"
   ]
  },
  {
   "cell_type": "code",
   "execution_count": 20,
   "id": "4ac05200",
   "metadata": {},
   "outputs": [
    {
     "data": {
      "image/png": "[encoded data removed]",
      "text/plain": [
       "<Figure size 500x900 with 1 Axes>"
      ]
     },
     "metadata": {},
     "output_type": "display_data"
    }
   ],
   "source": [
    "plt.figure(figsize=(5,9))\n",
    "objectcol.education.value_counts().plot(kind='pie',autopct='%.1f%%')\n",
    "plt.show()"
   ]
  },
  {
   "cell_type": "code",
   "execution_count": 21,
   "id": "eada9400",
   "metadata": {},
   "outputs": [
    {
     "data": {
      "image/png": "[encoded data removed]",
      "text/plain": [
       "<Figure size 500x900 with 1 Axes>"
      ]
     },
     "metadata": {},
     "output_type": "display_data"
    }
   ],
   "source": [
    "plt.figure(figsize=(5,9))\n",
    "objectcol.recruitment_channel.value_counts().plot(kind='pie',autopct='%.1f%%')\n",
    "plt.show()"
   ]
  },
  {
   "cell_type": "code",
   "execution_count": 22,
   "id": "eb634804",
   "metadata": {},
   "outputs": [],
   "source": [
    "# Data Preprocessing\n",
    "# adding a column in test table to combine train and test\n",
    "\n",
    "test_df['is_promoted']=3"
   ]
  },
  {
   "cell_type": "code",
   "execution_count": 23,
   "id": "b8621dd1",
   "metadata": {},
   "outputs": [],
   "source": [
    "combine_df=pd.concat([train_df,test_df],axis=0)"
   ]
  },
  {
   "cell_type": "code",
   "execution_count": 24,
   "id": "b61748f9",
   "metadata": {},
   "outputs": [
    {
     "name": "stdout",
     "output_type": "stream",
     "text": [
      "<class 'pandas.core.frame.DataFrame'>\n",
      "Int64Index: 78298 entries, 0 to 23489\n",
      "Data columns (total 14 columns):\n",
      " #   Column                Non-Null Count  Dtype  \n",
      "---  ------                --------------  -----  \n",
      " 0   employee_id           78298 non-null  int64  \n",
      " 1   department            78298 non-null  object \n",
      " 2   region                78298 non-null  object \n",
      " 3   education             74855 non-null  object \n",
      " 4   gender                78298 non-null  object \n",
      " 5   recruitment_channel   78298 non-null  object \n",
      " 6   no_of_trainings       78298 non-null  int64  \n",
      " 7   age                   78298 non-null  int64  \n",
      " 8   previous_year_rating  72362 non-null  float64\n",
      " 9   length_of_service     78298 non-null  int64  \n",
      " 10  KPIs_met >80%         78298 non-null  int64  \n",
      " 11  awards_won?           78298 non-null  int64  \n",
      " 12  avg_training_score    78298 non-null  int64  \n",
      " 13  is_promoted           78298 non-null  int64  \n",
      "dtypes: float64(1), int64(8), object(5)\n",
      "memory usage: 9.0+ MB\n"
     ]
    }
   ],
   "source": [
    "combine_df.info()"
   ]
  },
  {
   "cell_type": "code",
   "execution_count": 25,
   "id": "5f5fda2c",
   "metadata": {},
   "outputs": [
    {
     "data": {
      "text/plain": [
       "previous_year_rating    5936\n",
       "education               3443\n",
       "employee_id                0\n",
       "department                 0\n",
       "region                     0\n",
       "gender                     0\n",
       "recruitment_channel        0\n",
       "no_of_trainings            0\n",
       "age                        0\n",
       "length_of_service          0\n",
       "KPIs_met >80%              0\n",
       "awards_won?                0\n",
       "avg_training_score         0\n",
       "is_promoted                0\n",
       "dtype: int64"
      ]
     },
     "execution_count": 25,
     "metadata": {},
     "output_type": "execute_result"
    }
   ],
   "source": [
    "# missing values in the column\n",
    "combine_df.isnull().sum().sort_values(ascending=False)"
   ]
  },
  {
   "cell_type": "code",
   "execution_count": 26,
   "id": "6a26790c",
   "metadata": {},
   "outputs": [
    {
     "data": {
      "text/plain": [
       "previous_year_rating    0.075813\n",
       "education               0.043973\n",
       "employee_id             0.000000\n",
       "department              0.000000\n",
       "region                  0.000000\n",
       "gender                  0.000000\n",
       "recruitment_channel     0.000000\n",
       "no_of_trainings         0.000000\n",
       "age                     0.000000\n",
       "length_of_service       0.000000\n",
       "KPIs_met >80%           0.000000\n",
       "awards_won?             0.000000\n",
       "avg_training_score      0.000000\n",
       "is_promoted             0.000000\n",
       "dtype: float64"
      ]
     },
     "execution_count": 26,
     "metadata": {},
     "output_type": "execute_result"
    }
   ],
   "source": [
    "combine_df.isnull().sum().sort_values(ascending=False)/combine_df.shape[0]"
   ]
  },
  {
   "cell_type": "code",
   "execution_count": 27,
   "id": "81b3403d",
   "metadata": {},
   "outputs": [],
   "source": [
    "combine_df.previous_year_rating=combine_df.previous_year_rating.fillna(combine_df.previous_year_rating.median())"
   ]
  },
  {
   "cell_type": "code",
   "execution_count": 28,
   "id": "1c773524",
   "metadata": {},
   "outputs": [],
   "source": [
    "combine_df.education=combine_df.education.fillna(combine_df.education.value_counts().idxmax())"
   ]
  },
  {
   "cell_type": "code",
   "execution_count": 29,
   "id": "2202bc8c",
   "metadata": {},
   "outputs": [
    {
     "name": "stdout",
     "output_type": "stream",
     "text": [
      "<class 'pandas.core.frame.DataFrame'>\n",
      "Int64Index: 78298 entries, 0 to 23489\n",
      "Data columns (total 14 columns):\n",
      " #   Column                Non-Null Count  Dtype  \n",
      "---  ------                --------------  -----  \n",
      " 0   employee_id           78298 non-null  int64  \n",
      " 1   department            78298 non-null  object \n",
      " 2   region                78298 non-null  object \n",
      " 3   education             78298 non-null  object \n",
      " 4   gender                78298 non-null  object \n",
      " 5   recruitment_channel   78298 non-null  object \n",
      " 6   no_of_trainings       78298 non-null  int64  \n",
      " 7   age                   78298 non-null  int64  \n",
      " 8   previous_year_rating  78298 non-null  float64\n",
      " 9   length_of_service     78298 non-null  int64  \n",
      " 10  KPIs_met >80%         78298 non-null  int64  \n",
      " 11  awards_won?           78298 non-null  int64  \n",
      " 12  avg_training_score    78298 non-null  int64  \n",
      " 13  is_promoted           78298 non-null  int64  \n",
      "dtypes: float64(1), int64(8), object(5)\n",
      "memory usage: 9.0+ MB\n"
     ]
    }
   ],
   "source": [
    "combine_df.info()"
   ]
  },
  {
   "cell_type": "code",
   "execution_count": 30,
   "id": "24cb71b7",
   "metadata": {},
   "outputs": [
    {
     "data": {
      "text/plain": [
       "gender\n",
       "f    63.861889\n",
       "m    63.133903\n",
       "Name: avg_training_score, dtype: float64"
      ]
     },
     "execution_count": 30,
     "metadata": {},
     "output_type": "execute_result"
    }
   ],
   "source": [
    "# Inferential Statistics- Hypothesis Testing\n",
    "combine_df.avg_training_score.groupby(combine_df.gender).mean()\n",
    "# Null - There is no Significant difference in Average \n",
    "# H0 - mean1 = mean2 \n",
    "# Alt - There is Significant difference in Average\n",
    "# Ha - mean1 != mean2 "
   ]
  },
  {
   "cell_type": "code",
   "execution_count": 31,
   "id": "f49190d6",
   "metadata": {},
   "outputs": [
    {
     "data": {
      "text/plain": [
       "gender\n",
       "f    141.565023\n",
       "m    194.788281\n",
       "Name: avg_training_score, dtype: float64"
      ]
     },
     "execution_count": 31,
     "metadata": {},
     "output_type": "execute_result"
    }
   ],
   "source": [
    "combine_df.avg_training_score.groupby(combine_df.gender).var()"
   ]
  },
  {
   "cell_type": "code",
   "execution_count": 32,
   "id": "b09278e5",
   "metadata": {},
   "outputs": [],
   "source": [
    "f=combine_df[combine_df.gender=='f']\n",
    "m=combine_df[combine_df.gender=='m']"
   ]
  },
  {
   "cell_type": "code",
   "execution_count": 33,
   "id": "c0428346",
   "metadata": {},
   "outputs": [
    {
     "name": "stdout",
     "output_type": "stream",
     "text": [
      "(23206, 14)\n",
      "(55092, 14)\n"
     ]
    }
   ],
   "source": [
    "print(f.shape)\n",
    "print(m.shape)"
   ]
  },
  {
   "cell_type": "code",
   "execution_count": 34,
   "id": "2eed6cee",
   "metadata": {},
   "outputs": [],
   "source": [
    "from scipy.stats import ttest_ind"
   ]
  },
  {
   "cell_type": "code",
   "execution_count": 35,
   "id": "bab41754",
   "metadata": {},
   "outputs": [
    {
     "data": {
      "text/plain": [
       "Ttest_indResult(statistic=-7.416061894622894, pvalue=1.2253092804039651e-13)"
      ]
     },
     "execution_count": 35,
     "metadata": {},
     "output_type": "execute_result"
    }
   ],
   "source": [
    "ttest_ind(m.avg_training_score,f.avg_training_score,equal_var=False)\n",
    "\n",
    "# Since pvalue= 1.2253092804039651e-13 is less than 0.05, Reject Null"
   ]
  },
  {
   "cell_type": "code",
   "execution_count": 36,
   "id": "1b1aa8e4",
   "metadata": {},
   "outputs": [
    {
     "data": {
      "text/plain": [
       "education\n",
       "Bachelor's          63.032950\n",
       "Below Secondary     65.083121\n",
       "Master's & above    64.077372\n",
       "Name: avg_training_score, dtype: float64"
      ]
     },
     "execution_count": 36,
     "metadata": {},
     "output_type": "execute_result"
    }
   ],
   "source": [
    "combine_df.avg_training_score.groupby(combine_df.education).mean()\n",
    "# Null - There is no significant difference in Average \n",
    "#  H0- mean1=mean2=mean3\n",
    "# Alt - There is significant difference in Average \n",
    "#  Ha - mean1!=mean2!=mean3"
   ]
  },
  {
   "cell_type": "code",
   "execution_count": 37,
   "id": "1e3f91d2",
   "metadata": {},
   "outputs": [],
   "source": [
    "one=combine_df[combine_df.education==\"Bachelor's\"]\n",
    "two=combine_df[combine_df.education==\"Below Secondary\"]\n",
    "three=combine_df[combine_df.education==\"Master's & above\"]"
   ]
  },
  {
   "cell_type": "code",
   "execution_count": 38,
   "id": "73619494",
   "metadata": {},
   "outputs": [
    {
     "name": "stdout",
     "output_type": "stream",
     "text": [
      "(55690, 14)\n",
      "(1179, 14)\n",
      "(21429, 14)\n"
     ]
    }
   ],
   "source": [
    "print(one.shape)\n",
    "print(two.shape)\n",
    "print(three.shape)"
   ]
  },
  {
   "cell_type": "code",
   "execution_count": 39,
   "id": "5d97f2bb",
   "metadata": {},
   "outputs": [],
   "source": [
    "from scipy.stats import f_oneway"
   ]
  },
  {
   "cell_type": "code",
   "execution_count": 40,
   "id": "10cbc63a",
   "metadata": {},
   "outputs": [
    {
     "data": {
      "text/plain": [
       "F_onewayResult(statistic=57.24074378446604, pvalue=1.4415096976921178e-25)"
      ]
     },
     "execution_count": 40,
     "metadata": {},
     "output_type": "execute_result"
    }
   ],
   "source": [
    "f_oneway(one.avg_training_score,two.avg_training_score,three.avg_training_score)\n",
    "# Since pvalue= 1.4415096976921178e-25 is less than 0.05, Reject Null"
   ]
  },
  {
   "cell_type": "code",
   "execution_count": 41,
   "id": "697b29af",
   "metadata": {},
   "outputs": [],
   "source": [
    "# It has 2 levels so considering it as categorical variables\n",
    "categorical= combine_df[['KPIs_met >80%','awards_won?']]"
   ]
  },
  {
   "cell_type": "code",
   "execution_count": 42,
   "id": "71774ad5",
   "metadata": {},
   "outputs": [],
   "source": [
    "numericol_df=combine_df.select_dtypes(include=np.number)\n",
    "objectcol_df=combine_df.select_dtypes(include='object')"
   ]
  },
  {
   "cell_type": "code",
   "execution_count": 43,
   "id": "90d99a3d",
   "metadata": {},
   "outputs": [
    {
     "name": "stdout",
     "output_type": "stream",
     "text": [
      "<class 'pandas.core.frame.DataFrame'>\n",
      "Int64Index: 78298 entries, 0 to 23489\n",
      "Data columns (total 9 columns):\n",
      " #   Column                Non-Null Count  Dtype  \n",
      "---  ------                --------------  -----  \n",
      " 0   employee_id           78298 non-null  int64  \n",
      " 1   no_of_trainings       78298 non-null  int64  \n",
      " 2   age                   78298 non-null  int64  \n",
      " 3   previous_year_rating  78298 non-null  float64\n",
      " 4   length_of_service     78298 non-null  int64  \n",
      " 5   KPIs_met >80%         78298 non-null  int64  \n",
      " 6   awards_won?           78298 non-null  int64  \n",
      " 7   avg_training_score    78298 non-null  int64  \n",
      " 8   is_promoted           78298 non-null  int64  \n",
      "dtypes: float64(1), int64(8)\n",
      "memory usage: 6.0 MB\n"
     ]
    }
   ],
   "source": [
    "numericol_df.info()"
   ]
  },
  {
   "cell_type": "code",
   "execution_count": 44,
   "id": "b53eaf23",
   "metadata": {},
   "outputs": [],
   "source": [
    "# droping employee id as it is unique values\n",
    "# other two variables considered in categorical values\n",
    "numericol_df=numericol_df.drop(['employee_id','KPIs_met >80%','awards_won?'],axis=1)"
   ]
  },
  {
   "cell_type": "code",
   "execution_count": 45,
   "id": "436bd044",
   "metadata": {},
   "outputs": [
    {
     "name": "stdout",
     "output_type": "stream",
     "text": [
      "<class 'pandas.core.frame.DataFrame'>\n",
      "Int64Index: 78298 entries, 0 to 23489\n",
      "Data columns (total 5 columns):\n",
      " #   Column               Non-Null Count  Dtype \n",
      "---  ------               --------------  ----- \n",
      " 0   department           78298 non-null  object\n",
      " 1   region               78298 non-null  object\n",
      " 2   education            78298 non-null  object\n",
      " 3   gender               78298 non-null  object\n",
      " 4   recruitment_channel  78298 non-null  object\n",
      "dtypes: object(5)\n",
      "memory usage: 3.6+ MB\n"
     ]
    }
   ],
   "source": [
    "objectcol_df.info()"
   ]
  },
  {
   "cell_type": "code",
   "execution_count": 46,
   "id": "168551d6",
   "metadata": {},
   "outputs": [],
   "source": [
    "from sklearn.preprocessing import LabelEncoder"
   ]
  },
  {
   "cell_type": "code",
   "execution_count": 47,
   "id": "a78c4a1a",
   "metadata": {},
   "outputs": [],
   "source": [
    "le=LabelEncoder()"
   ]
  },
  {
   "cell_type": "code",
   "execution_count": 48,
   "id": "ced4e010",
   "metadata": {},
   "outputs": [],
   "source": [
    "objectcol_df_label=objectcol_df.apply(le.fit_transform)"
   ]
  },
  {
   "cell_type": "code",
   "execution_count": 49,
   "id": "22cd7033",
   "metadata": {},
   "outputs": [
    {
     "data": {
      "text/html": [
       "<div>\n",
       "<style scoped>\n",
       "    .dataframe tbody tr th:only-of-type {\n",
       "        vertical-align: middle;\n",
       "    }\n",
       "\n",
       "    .dataframe tbody tr th {\n",
       "        vertical-align: top;\n",
       "    }\n",
       "\n",
       "    .dataframe thead th {\n",
       "        text-align: right;\n",
       "    }\n",
       "</style>\n",
       "<table border=\"1\" class=\"dataframe\">\n",
       "  <thead>\n",
       "    <tr style=\"text-align: right;\">\n",
       "      <th></th>\n",
       "      <th>department</th>\n",
       "      <th>region</th>\n",
       "      <th>education</th>\n",
       "      <th>gender</th>\n",
       "      <th>recruitment_channel</th>\n",
       "    </tr>\n",
       "  </thead>\n",
       "  <tbody>\n",
       "    <tr>\n",
       "      <th>0</th>\n",
       "      <td>7</td>\n",
       "      <td>31</td>\n",
       "      <td>2</td>\n",
       "      <td>0</td>\n",
       "      <td>2</td>\n",
       "    </tr>\n",
       "    <tr>\n",
       "      <th>1</th>\n",
       "      <td>4</td>\n",
       "      <td>14</td>\n",
       "      <td>0</td>\n",
       "      <td>1</td>\n",
       "      <td>0</td>\n",
       "    </tr>\n",
       "    <tr>\n",
       "      <th>2</th>\n",
       "      <td>7</td>\n",
       "      <td>10</td>\n",
       "      <td>0</td>\n",
       "      <td>1</td>\n",
       "      <td>2</td>\n",
       "    </tr>\n",
       "    <tr>\n",
       "      <th>3</th>\n",
       "      <td>7</td>\n",
       "      <td>15</td>\n",
       "      <td>0</td>\n",
       "      <td>1</td>\n",
       "      <td>0</td>\n",
       "    </tr>\n",
       "    <tr>\n",
       "      <th>4</th>\n",
       "      <td>8</td>\n",
       "      <td>18</td>\n",
       "      <td>0</td>\n",
       "      <td>1</td>\n",
       "      <td>0</td>\n",
       "    </tr>\n",
       "  </tbody>\n",
       "</table>\n",
       "</div>"
      ],
      "text/plain": [
       "   department  region  education  gender  recruitment_channel\n",
       "0           7      31          2       0                    2\n",
       "1           4      14          0       1                    0\n",
       "2           7      10          0       1                    2\n",
       "3           7      15          0       1                    0\n",
       "4           8      18          0       1                    0"
      ]
     },
     "execution_count": 49,
     "metadata": {},
     "output_type": "execute_result"
    }
   ],
   "source": [
    "objectcol_df_label.head()"
   ]
  },
  {
   "cell_type": "code",
   "execution_count": 50,
   "id": "af4b05ce",
   "metadata": {},
   "outputs": [],
   "source": [
    "from sklearn.preprocessing import StandardScaler"
   ]
  },
  {
   "cell_type": "code",
   "execution_count": 51,
   "id": "29679a18",
   "metadata": {},
   "outputs": [],
   "source": [
    "standard=StandardScaler()"
   ]
  },
  {
   "cell_type": "code",
   "execution_count": 52,
   "id": "c0ac6878",
   "metadata": {},
   "outputs": [],
   "source": [
    "numericol_standard=standard.fit_transform(numericol_df.drop('is_promoted',axis=1))"
   ]
  },
  {
   "cell_type": "code",
   "execution_count": 53,
   "id": "9d76ece1",
   "metadata": {},
   "outputs": [],
   "source": [
    "numericol_standard=pd.DataFrame(numericol_standard,columns=numericol_df.columns[0:5])"
   ]
  },
  {
   "cell_type": "code",
   "execution_count": 54,
   "id": "5555f205",
   "metadata": {},
   "outputs": [
    {
     "data": {
      "text/html": [
       "<div>\n",
       "<style scoped>\n",
       "    .dataframe tbody tr th:only-of-type {\n",
       "        vertical-align: middle;\n",
       "    }\n",
       "\n",
       "    .dataframe tbody tr th {\n",
       "        vertical-align: top;\n",
       "    }\n",
       "\n",
       "    .dataframe thead th {\n",
       "        text-align: right;\n",
       "    }\n",
       "</style>\n",
       "<table border=\"1\" class=\"dataframe\">\n",
       "  <thead>\n",
       "    <tr style=\"text-align: right;\">\n",
       "      <th></th>\n",
       "      <th>no_of_trainings</th>\n",
       "      <th>age</th>\n",
       "      <th>previous_year_rating</th>\n",
       "      <th>length_of_service</th>\n",
       "      <th>avg_training_score</th>\n",
       "    </tr>\n",
       "  </thead>\n",
       "  <tbody>\n",
       "    <tr>\n",
       "      <th>0</th>\n",
       "      <td>-0.417590</td>\n",
       "      <td>0.026400</td>\n",
       "      <td>1.392910</td>\n",
       "      <td>0.506357</td>\n",
       "      <td>-1.072184</td>\n",
       "    </tr>\n",
       "    <tr>\n",
       "      <th>1</th>\n",
       "      <td>-0.417590</td>\n",
       "      <td>-0.625841</td>\n",
       "      <td>1.392910</td>\n",
       "      <td>-0.435253</td>\n",
       "      <td>-0.250282</td>\n",
       "    </tr>\n",
       "    <tr>\n",
       "      <th>2</th>\n",
       "      <td>-0.417590</td>\n",
       "      <td>-0.104048</td>\n",
       "      <td>-0.252614</td>\n",
       "      <td>0.270954</td>\n",
       "      <td>-0.997466</td>\n",
       "    </tr>\n",
       "    <tr>\n",
       "      <th>3</th>\n",
       "      <td>1.230501</td>\n",
       "      <td>0.548193</td>\n",
       "      <td>-1.898139</td>\n",
       "      <td>0.977162</td>\n",
       "      <td>-0.997466</td>\n",
       "    </tr>\n",
       "    <tr>\n",
       "      <th>4</th>\n",
       "      <td>-0.417590</td>\n",
       "      <td>1.330882</td>\n",
       "      <td>-0.252614</td>\n",
       "      <td>-0.906058</td>\n",
       "      <td>0.721058</td>\n",
       "    </tr>\n",
       "  </tbody>\n",
       "</table>\n",
       "</div>"
      ],
      "text/plain": [
       "   no_of_trainings       age  previous_year_rating  length_of_service  \\\n",
       "0        -0.417590  0.026400              1.392910           0.506357   \n",
       "1        -0.417590 -0.625841              1.392910          -0.435253   \n",
       "2        -0.417590 -0.104048             -0.252614           0.270954   \n",
       "3         1.230501  0.548193             -1.898139           0.977162   \n",
       "4        -0.417590  1.330882             -0.252614          -0.906058   \n",
       "\n",
       "   avg_training_score  \n",
       "0           -1.072184  \n",
       "1           -0.250282  \n",
       "2           -0.997466  \n",
       "3           -0.997466  \n",
       "4            0.721058  "
      ]
     },
     "execution_count": 54,
     "metadata": {},
     "output_type": "execute_result"
    }
   ],
   "source": [
    "numericol_standard.head()"
   ]
  },
  {
   "cell_type": "code",
   "execution_count": 55,
   "id": "835bf234",
   "metadata": {},
   "outputs": [],
   "source": [
    "numericol_clean=numericol_standard.reset_index()"
   ]
  },
  {
   "cell_type": "code",
   "execution_count": 56,
   "id": "461afe42",
   "metadata": {},
   "outputs": [],
   "source": [
    "objectcol_clean=objectcol_df_label.reset_index()"
   ]
  },
  {
   "cell_type": "code",
   "execution_count": 57,
   "id": "9943cb61",
   "metadata": {},
   "outputs": [],
   "source": [
    "categorical_clean=categorical.reset_index()"
   ]
  },
  {
   "cell_type": "code",
   "execution_count": 58,
   "id": "24170b2f",
   "metadata": {},
   "outputs": [],
   "source": [
    "clean_df=pd.concat([objectcol_clean,numericol_clean,categorical_clean],axis=1)"
   ]
  },
  {
   "cell_type": "code",
   "execution_count": 59,
   "id": "ffce0b9a",
   "metadata": {},
   "outputs": [
    {
     "name": "stdout",
     "output_type": "stream",
     "text": [
      "<class 'pandas.core.frame.DataFrame'>\n",
      "RangeIndex: 78298 entries, 0 to 78297\n",
      "Data columns (total 15 columns):\n",
      " #   Column                Non-Null Count  Dtype  \n",
      "---  ------                --------------  -----  \n",
      " 0   index                 78298 non-null  int64  \n",
      " 1   department            78298 non-null  int64  \n",
      " 2   region                78298 non-null  int64  \n",
      " 3   education             78298 non-null  int64  \n",
      " 4   gender                78298 non-null  int64  \n",
      " 5   recruitment_channel   78298 non-null  int64  \n",
      " 6   index                 78298 non-null  int64  \n",
      " 7   no_of_trainings       78298 non-null  float64\n",
      " 8   age                   78298 non-null  float64\n",
      " 9   previous_year_rating  78298 non-null  float64\n",
      " 10  length_of_service     78298 non-null  float64\n",
      " 11  avg_training_score    78298 non-null  float64\n",
      " 12  index                 78298 non-null  int64  \n",
      " 13  KPIs_met >80%         78298 non-null  int64  \n",
      " 14  awards_won?           78298 non-null  int64  \n",
      "dtypes: float64(5), int64(10)\n",
      "memory usage: 9.0 MB\n"
     ]
    }
   ],
   "source": [
    "clean_df.info()"
   ]
  },
  {
   "cell_type": "code",
   "execution_count": 60,
   "id": "a6d895f7",
   "metadata": {},
   "outputs": [],
   "source": [
    "numericol_df=numericol_df.reset_index()"
   ]
  },
  {
   "cell_type": "code",
   "execution_count": 61,
   "id": "50f00a4d",
   "metadata": {},
   "outputs": [],
   "source": [
    "clean_df['is_promoted']=numericol_df.is_promoted"
   ]
  },
  {
   "cell_type": "code",
   "execution_count": 62,
   "id": "b956fdcf",
   "metadata": {},
   "outputs": [
    {
     "name": "stdout",
     "output_type": "stream",
     "text": [
      "<class 'pandas.core.frame.DataFrame'>\n",
      "RangeIndex: 78298 entries, 0 to 78297\n",
      "Data columns (total 16 columns):\n",
      " #   Column                Non-Null Count  Dtype  \n",
      "---  ------                --------------  -----  \n",
      " 0   index                 78298 non-null  int64  \n",
      " 1   department            78298 non-null  int64  \n",
      " 2   region                78298 non-null  int64  \n",
      " 3   education             78298 non-null  int64  \n",
      " 4   gender                78298 non-null  int64  \n",
      " 5   recruitment_channel   78298 non-null  int64  \n",
      " 6   index                 78298 non-null  int64  \n",
      " 7   no_of_trainings       78298 non-null  float64\n",
      " 8   age                   78298 non-null  float64\n",
      " 9   previous_year_rating  78298 non-null  float64\n",
      " 10  length_of_service     78298 non-null  float64\n",
      " 11  avg_training_score    78298 non-null  float64\n",
      " 12  index                 78298 non-null  int64  \n",
      " 13  KPIs_met >80%         78298 non-null  int64  \n",
      " 14  awards_won?           78298 non-null  int64  \n",
      " 15  is_promoted           78298 non-null  int64  \n",
      "dtypes: float64(5), int64(11)\n",
      "memory usage: 9.6 MB\n"
     ]
    }
   ],
   "source": [
    "clean_df.info()"
   ]
  },
  {
   "cell_type": "code",
   "execution_count": 63,
   "id": "af9e1913",
   "metadata": {},
   "outputs": [],
   "source": [
    "train_clean=clean_df[clean_df.is_promoted!=3]\n",
    "test_clean=clean_df[clean_df.is_promoted==3]"
   ]
  },
  {
   "cell_type": "code",
   "execution_count": 64,
   "id": "6ac8a690",
   "metadata": {},
   "outputs": [
    {
     "name": "stdout",
     "output_type": "stream",
     "text": [
      "<class 'pandas.core.frame.DataFrame'>\n",
      "Int64Index: 54808 entries, 0 to 54807\n",
      "Data columns (total 16 columns):\n",
      " #   Column                Non-Null Count  Dtype  \n",
      "---  ------                --------------  -----  \n",
      " 0   index                 54808 non-null  int64  \n",
      " 1   department            54808 non-null  int64  \n",
      " 2   region                54808 non-null  int64  \n",
      " 3   education             54808 non-null  int64  \n",
      " 4   gender                54808 non-null  int64  \n",
      " 5   recruitment_channel   54808 non-null  int64  \n",
      " 6   index                 54808 non-null  int64  \n",
      " 7   no_of_trainings       54808 non-null  float64\n",
      " 8   age                   54808 non-null  float64\n",
      " 9   previous_year_rating  54808 non-null  float64\n",
      " 10  length_of_service     54808 non-null  float64\n",
      " 11  avg_training_score    54808 non-null  float64\n",
      " 12  index                 54808 non-null  int64  \n",
      " 13  KPIs_met >80%         54808 non-null  int64  \n",
      " 14  awards_won?           54808 non-null  int64  \n",
      " 15  is_promoted           54808 non-null  int64  \n",
      "dtypes: float64(5), int64(11)\n",
      "memory usage: 7.1 MB\n"
     ]
    }
   ],
   "source": [
    "train_clean.info()"
   ]
  },
  {
   "cell_type": "code",
   "execution_count": 65,
   "id": "1d6e2170",
   "metadata": {},
   "outputs": [
    {
     "name": "stdout",
     "output_type": "stream",
     "text": [
      "<class 'pandas.core.frame.DataFrame'>\n",
      "Int64Index: 23490 entries, 54808 to 78297\n",
      "Data columns (total 16 columns):\n",
      " #   Column                Non-Null Count  Dtype  \n",
      "---  ------                --------------  -----  \n",
      " 0   index                 23490 non-null  int64  \n",
      " 1   department            23490 non-null  int64  \n",
      " 2   region                23490 non-null  int64  \n",
      " 3   education             23490 non-null  int64  \n",
      " 4   gender                23490 non-null  int64  \n",
      " 5   recruitment_channel   23490 non-null  int64  \n",
      " 6   index                 23490 non-null  int64  \n",
      " 7   no_of_trainings       23490 non-null  float64\n",
      " 8   age                   23490 non-null  float64\n",
      " 9   previous_year_rating  23490 non-null  float64\n",
      " 10  length_of_service     23490 non-null  float64\n",
      " 11  avg_training_score    23490 non-null  float64\n",
      " 12  index                 23490 non-null  int64  \n",
      " 13  KPIs_met >80%         23490 non-null  int64  \n",
      " 14  awards_won?           23490 non-null  int64  \n",
      " 15  is_promoted           23490 non-null  int64  \n",
      "dtypes: float64(5), int64(11)\n",
      "memory usage: 3.0 MB\n"
     ]
    }
   ],
   "source": [
    "test_clean.info()"
   ]
  },
  {
   "cell_type": "code",
   "execution_count": 66,
   "id": "b9914992",
   "metadata": {},
   "outputs": [],
   "source": [
    "test_clean=test_clean.drop(['index','is_promoted'],axis=1)"
   ]
  },
  {
   "cell_type": "code",
   "execution_count": 67,
   "id": "f06d097d",
   "metadata": {},
   "outputs": [],
   "source": [
    "train_clean=train_clean.drop(['index'],axis=1)"
   ]
  },
  {
   "cell_type": "code",
   "execution_count": 68,
   "id": "9464b618",
   "metadata": {},
   "outputs": [],
   "source": [
    "X=train_clean.drop('is_promoted',axis=1)\n",
    "y=train_clean.is_promoted"
   ]
  },
  {
   "cell_type": "code",
   "execution_count": 69,
   "id": "4598fffa",
   "metadata": {},
   "outputs": [
    {
     "data": {
      "text/plain": [
       "<AxesSubplot: >"
      ]
     },
     "execution_count": 69,
     "metadata": {},
     "output_type": "execute_result"
    },
    {
     "data": {
      "image/png": "[encoded data removed]",
      "text/plain": [
       "<Figure size 640x480 with 1 Axes>"
      ]
     },
     "metadata": {},
     "output_type": "display_data"
    }
   ],
   "source": [
    "y.value_counts().plot(kind='bar')"
   ]
  },
  {
   "cell_type": "code",
   "execution_count": 70,
   "id": "bb66f8b0",
   "metadata": {},
   "outputs": [],
   "source": [
    "#balancing the data\n",
    "from imblearn.over_sampling import SMOTEN"
   ]
  },
  {
   "cell_type": "code",
   "execution_count": 71,
   "id": "7d773005",
   "metadata": {},
   "outputs": [],
   "source": [
    "smote_os = SMOTEN(random_state = 42)\n",
    "X_smote, y_smote = smote_os.fit_resample(X,y)"
   ]
  },
  {
   "cell_type": "code",
   "execution_count": 72,
   "id": "c6baa54c",
   "metadata": {},
   "outputs": [
    {
     "name": "stdout",
     "output_type": "stream",
     "text": [
      "0    50140\n",
      "1     4668\n",
      "Name: is_promoted, dtype: int64\n",
      "0    50140\n",
      "1    50140\n",
      "Name: is_promoted, dtype: int64\n"
     ]
    }
   ],
   "source": [
    "print(y.value_counts())\n",
    "print(y_smote.value_counts())"
   ]
  },
  {
   "cell_type": "markdown",
   "id": "3adc4edd",
   "metadata": {},
   "source": [
    "# Logistic Regression "
   ]
  },
  {
   "cell_type": "code",
   "execution_count": 73,
   "id": "e53fa24e",
   "metadata": {},
   "outputs": [],
   "source": [
    "#Creating Classification ML Models \n",
    "\n",
    "from sklearn.linear_model import LogisticRegression\n",
    "from sklearn.metrics import classification_report"
   ]
  },
  {
   "cell_type": "code",
   "execution_count": 74,
   "id": "80cb1361",
   "metadata": {},
   "outputs": [],
   "source": [
    "logit=LogisticRegression()"
   ]
  },
  {
   "cell_type": "code",
   "execution_count": 75,
   "id": "b959fb0c",
   "metadata": {},
   "outputs": [],
   "source": [
    "logitmodel=logit.fit(X_smote,y_smote)"
   ]
  },
  {
   "cell_type": "code",
   "execution_count": 76,
   "id": "e2b05075",
   "metadata": {},
   "outputs": [
    {
     "data": {
      "text/plain": [
       "0.7584064619066614"
      ]
     },
     "execution_count": 76,
     "metadata": {},
     "output_type": "execute_result"
    }
   ],
   "source": [
    "logitmodel.score(X_smote,y_smote)"
   ]
  },
  {
   "cell_type": "code",
   "execution_count": 77,
   "id": "f1e85d67",
   "metadata": {},
   "outputs": [],
   "source": [
    "logitpredict=logitmodel.predict(X_smote)"
   ]
  },
  {
   "cell_type": "code",
   "execution_count": 78,
   "id": "4a1400c5",
   "metadata": {},
   "outputs": [
    {
     "name": "stdout",
     "output_type": "stream",
     "text": [
      "              precision    recall  f1-score   support\n",
      "\n",
      "           0       0.76      0.75      0.76     50140\n",
      "           1       0.75      0.77      0.76     50140\n",
      "\n",
      "    accuracy                           0.76    100280\n",
      "   macro avg       0.76      0.76      0.76    100280\n",
      "weighted avg       0.76      0.76      0.76    100280\n",
      "\n"
     ]
    }
   ],
   "source": [
    "print(classification_report(y_smote,logitpredict))"
   ]
  },
  {
   "cell_type": "code",
   "execution_count": 79,
   "id": "9b16b10d",
   "metadata": {},
   "outputs": [
    {
     "data": {
      "text/html": [
       "<div>\n",
       "<style scoped>\n",
       "    .dataframe tbody tr th:only-of-type {\n",
       "        vertical-align: middle;\n",
       "    }\n",
       "\n",
       "    .dataframe tbody tr th {\n",
       "        vertical-align: top;\n",
       "    }\n",
       "\n",
       "    .dataframe thead th {\n",
       "        text-align: right;\n",
       "    }\n",
       "</style>\n",
       "<table border=\"1\" class=\"dataframe\">\n",
       "  <thead>\n",
       "    <tr style=\"text-align: right;\">\n",
       "      <th>is_promoted</th>\n",
       "      <th>0</th>\n",
       "      <th>1</th>\n",
       "    </tr>\n",
       "    <tr>\n",
       "      <th>row_0</th>\n",
       "      <th></th>\n",
       "      <th></th>\n",
       "    </tr>\n",
       "  </thead>\n",
       "  <tbody>\n",
       "    <tr>\n",
       "      <th>0</th>\n",
       "      <td>37477</td>\n",
       "      <td>11564</td>\n",
       "    </tr>\n",
       "    <tr>\n",
       "      <th>1</th>\n",
       "      <td>12663</td>\n",
       "      <td>38576</td>\n",
       "    </tr>\n",
       "  </tbody>\n",
       "</table>\n",
       "</div>"
      ],
      "text/plain": [
       "is_promoted      0      1\n",
       "row_0                    \n",
       "0            37477  11564\n",
       "1            12663  38576"
      ]
     },
     "execution_count": 79,
     "metadata": {},
     "output_type": "execute_result"
    }
   ],
   "source": [
    "pd.crosstab(logitpredict,y_smote)"
   ]
  },
  {
   "cell_type": "code",
   "execution_count": 80,
   "id": "4bae8780",
   "metadata": {},
   "outputs": [],
   "source": [
    "logitpredict=logitmodel.predict(test_clean)"
   ]
  },
  {
   "cell_type": "code",
   "execution_count": 81,
   "id": "ccea598e",
   "metadata": {},
   "outputs": [],
   "source": [
    "pd.DataFrame(logitpredict).to_csv('lg.csv')"
   ]
  },
  {
   "cell_type": "markdown",
   "id": "0aff348c",
   "metadata": {},
   "source": [
    "# Decision Tree"
   ]
  },
  {
   "cell_type": "code",
   "execution_count": 82,
   "id": "405a4ec8",
   "metadata": {},
   "outputs": [],
   "source": [
    "from sklearn.tree import DecisionTreeClassifier"
   ]
  },
  {
   "cell_type": "code",
   "execution_count": 83,
   "id": "8c89f47a",
   "metadata": {},
   "outputs": [],
   "source": [
    "tree=DecisionTreeClassifier(max_depth=15)"
   ]
  },
  {
   "cell_type": "code",
   "execution_count": 84,
   "id": "b3236d74",
   "metadata": {},
   "outputs": [],
   "source": [
    "treemodel=tree.fit(X_smote,y_smote)"
   ]
  },
  {
   "cell_type": "code",
   "execution_count": 85,
   "id": "1d566245",
   "metadata": {},
   "outputs": [
    {
     "data": {
      "text/plain": [
       "0.9273035500598324"
      ]
     },
     "execution_count": 85,
     "metadata": {},
     "output_type": "execute_result"
    }
   ],
   "source": [
    "treemodel.score(X_smote,y_smote)"
   ]
  },
  {
   "cell_type": "code",
   "execution_count": 86,
   "id": "f19df886",
   "metadata": {},
   "outputs": [],
   "source": [
    "from sklearn.model_selection import cross_val_score"
   ]
  },
  {
   "cell_type": "code",
   "execution_count": 87,
   "id": "b43f2732",
   "metadata": {},
   "outputs": [
    {
     "data": {
      "text/plain": [
       "array([0.92857143, 0.92939245, 0.93057836, 0.93403887, 0.93066326])"
      ]
     },
     "execution_count": 87,
     "metadata": {},
     "output_type": "execute_result"
    }
   ],
   "source": [
    "cross_val_score(tree,X,y)"
   ]
  },
  {
   "cell_type": "code",
   "execution_count": 114,
   "id": "5badffc5",
   "metadata": {},
   "outputs": [
    {
     "data": {
      "text/plain": [
       "0.9306488740000001"
      ]
     },
     "execution_count": 114,
     "metadata": {},
     "output_type": "execute_result"
    }
   ],
   "source": [
    "np.mean([0.92857143, 0.92939245, 0.93057836, 0.93403887, 0.93066326])"
   ]
  },
  {
   "cell_type": "code",
   "execution_count": 89,
   "id": "354b3f0a",
   "metadata": {},
   "outputs": [],
   "source": [
    "treepredict=treemodel.predict(X_smote)"
   ]
  },
  {
   "cell_type": "code",
   "execution_count": 90,
   "id": "ca2943af",
   "metadata": {},
   "outputs": [
    {
     "name": "stdout",
     "output_type": "stream",
     "text": [
      "              precision    recall  f1-score   support\n",
      "\n",
      "           0       0.97      0.88      0.92     50140\n",
      "           1       0.89      0.97      0.93     50140\n",
      "\n",
      "    accuracy                           0.93    100280\n",
      "   macro avg       0.93      0.93      0.93    100280\n",
      "weighted avg       0.93      0.93      0.93    100280\n",
      "\n"
     ]
    }
   ],
   "source": [
    "print(classification_report(y_smote,treepredict))"
   ]
  },
  {
   "cell_type": "code",
   "execution_count": 91,
   "id": "9f4e5521",
   "metadata": {},
   "outputs": [
    {
     "data": {
      "text/html": [
       "<div>\n",
       "<style scoped>\n",
       "    .dataframe tbody tr th:only-of-type {\n",
       "        vertical-align: middle;\n",
       "    }\n",
       "\n",
       "    .dataframe tbody tr th {\n",
       "        vertical-align: top;\n",
       "    }\n",
       "\n",
       "    .dataframe thead th {\n",
       "        text-align: right;\n",
       "    }\n",
       "</style>\n",
       "<table border=\"1\" class=\"dataframe\">\n",
       "  <thead>\n",
       "    <tr style=\"text-align: right;\">\n",
       "      <th>col_0</th>\n",
       "      <th>0</th>\n",
       "      <th>1</th>\n",
       "    </tr>\n",
       "    <tr>\n",
       "      <th>is_promoted</th>\n",
       "      <th></th>\n",
       "      <th></th>\n",
       "    </tr>\n",
       "  </thead>\n",
       "  <tbody>\n",
       "    <tr>\n",
       "      <th>0</th>\n",
       "      <td>44160</td>\n",
       "      <td>5980</td>\n",
       "    </tr>\n",
       "    <tr>\n",
       "      <th>1</th>\n",
       "      <td>1310</td>\n",
       "      <td>48830</td>\n",
       "    </tr>\n",
       "  </tbody>\n",
       "</table>\n",
       "</div>"
      ],
      "text/plain": [
       "col_0            0      1\n",
       "is_promoted              \n",
       "0            44160   5980\n",
       "1             1310  48830"
      ]
     },
     "execution_count": 91,
     "metadata": {},
     "output_type": "execute_result"
    }
   ],
   "source": [
    "pd.crosstab(y_smote,treepredict)"
   ]
  },
  {
   "cell_type": "code",
   "execution_count": 92,
   "id": "656ef034",
   "metadata": {},
   "outputs": [],
   "source": [
    "treepredict=treemodel.predict(test_clean)"
   ]
  },
  {
   "cell_type": "code",
   "execution_count": 93,
   "id": "2e5e7ea5",
   "metadata": {},
   "outputs": [],
   "source": [
    "pd.DataFrame(treepredict).to_csv('tree.csv')"
   ]
  },
  {
   "cell_type": "markdown",
   "id": "e8ff35ec",
   "metadata": {},
   "source": [
    "# Random forest"
   ]
  },
  {
   "cell_type": "code",
   "execution_count": 94,
   "id": "163cb8c5",
   "metadata": {},
   "outputs": [],
   "source": [
    "from sklearn.ensemble import RandomForestClassifier"
   ]
  },
  {
   "cell_type": "code",
   "execution_count": 95,
   "id": "881c8718",
   "metadata": {},
   "outputs": [],
   "source": [
    "RF=RandomForestClassifier(n_estimators=3000,max_depth=8)"
   ]
  },
  {
   "cell_type": "code",
   "execution_count": 96,
   "id": "6d4faf83",
   "metadata": {},
   "outputs": [],
   "source": [
    "RFmodel=RF.fit(X_smote,y_smote)"
   ]
  },
  {
   "cell_type": "code",
   "execution_count": 97,
   "id": "6d89968a",
   "metadata": {},
   "outputs": [
    {
     "data": {
      "text/plain": [
       "0.8352612684483446"
      ]
     },
     "execution_count": 97,
     "metadata": {},
     "output_type": "execute_result"
    }
   ],
   "source": [
    "RFmodel.score(X_smote,y_smote)"
   ]
  },
  {
   "cell_type": "code",
   "execution_count": 98,
   "id": "ef8752d7",
   "metadata": {},
   "outputs": [
    {
     "data": {
      "text/plain": [
       "array([0.77697447, 0.83705624, 0.83835261, 0.8368568 , 0.84647986])"
      ]
     },
     "execution_count": 98,
     "metadata": {},
     "output_type": "execute_result"
    }
   ],
   "source": [
    "cross_val_score(RF,X_smote,y_smote)"
   ]
  },
  {
   "cell_type": "code",
   "execution_count": 113,
   "id": "b3c1bdc1",
   "metadata": {},
   "outputs": [
    {
     "data": {
      "text/plain": [
       "0.827143996"
      ]
     },
     "execution_count": 113,
     "metadata": {},
     "output_type": "execute_result"
    }
   ],
   "source": [
    "np.mean([0.77697447, 0.83705624, 0.83835261, 0.8368568 , 0.84647986])"
   ]
  },
  {
   "cell_type": "code",
   "execution_count": 100,
   "id": "3f1298ea",
   "metadata": {},
   "outputs": [],
   "source": [
    "RFpredict=RFmodel.predict(X_smote)"
   ]
  },
  {
   "cell_type": "code",
   "execution_count": 101,
   "id": "f601ba54",
   "metadata": {},
   "outputs": [
    {
     "data": {
      "text/html": [
       "<div>\n",
       "<style scoped>\n",
       "    .dataframe tbody tr th:only-of-type {\n",
       "        vertical-align: middle;\n",
       "    }\n",
       "\n",
       "    .dataframe tbody tr th {\n",
       "        vertical-align: top;\n",
       "    }\n",
       "\n",
       "    .dataframe thead th {\n",
       "        text-align: right;\n",
       "    }\n",
       "</style>\n",
       "<table border=\"1\" class=\"dataframe\">\n",
       "  <thead>\n",
       "    <tr style=\"text-align: right;\">\n",
       "      <th>col_0</th>\n",
       "      <th>0</th>\n",
       "      <th>1</th>\n",
       "    </tr>\n",
       "    <tr>\n",
       "      <th>is_promoted</th>\n",
       "      <th></th>\n",
       "      <th></th>\n",
       "    </tr>\n",
       "  </thead>\n",
       "  <tbody>\n",
       "    <tr>\n",
       "      <th>0</th>\n",
       "      <td>39095</td>\n",
       "      <td>11045</td>\n",
       "    </tr>\n",
       "    <tr>\n",
       "      <th>1</th>\n",
       "      <td>5475</td>\n",
       "      <td>44665</td>\n",
       "    </tr>\n",
       "  </tbody>\n",
       "</table>\n",
       "</div>"
      ],
      "text/plain": [
       "col_0            0      1\n",
       "is_promoted              \n",
       "0            39095  11045\n",
       "1             5475  44665"
      ]
     },
     "execution_count": 101,
     "metadata": {},
     "output_type": "execute_result"
    }
   ],
   "source": [
    "pd.crosstab(y_smote,RFpredict)"
   ]
  },
  {
   "cell_type": "code",
   "execution_count": 102,
   "id": "3bfe25a7",
   "metadata": {},
   "outputs": [
    {
     "name": "stdout",
     "output_type": "stream",
     "text": [
      "              precision    recall  f1-score   support\n",
      "\n",
      "           0       0.88      0.78      0.83     50140\n",
      "           1       0.80      0.89      0.84     50140\n",
      "\n",
      "    accuracy                           0.84    100280\n",
      "   macro avg       0.84      0.84      0.83    100280\n",
      "weighted avg       0.84      0.84      0.83    100280\n",
      "\n"
     ]
    }
   ],
   "source": [
    "print(classification_report(y_smote,RFpredict))"
   ]
  },
  {
   "cell_type": "code",
   "execution_count": 103,
   "id": "b41c7204",
   "metadata": {},
   "outputs": [],
   "source": [
    "RFpredict=RFmodel.predict(test_clean)"
   ]
  },
  {
   "cell_type": "code",
   "execution_count": 104,
   "id": "7d012c60",
   "metadata": {},
   "outputs": [],
   "source": [
    "pd.DataFrame(RFpredict).to_csv('RF.csv')"
   ]
  },
  {
   "cell_type": "markdown",
   "id": "d3e0d5a9",
   "metadata": {},
   "source": [
    "# Gradient Boosting"
   ]
  },
  {
   "cell_type": "code",
   "execution_count": 105,
   "id": "f74c4172",
   "metadata": {},
   "outputs": [],
   "source": [
    "from sklearn.ensemble import GradientBoostingClassifier"
   ]
  },
  {
   "cell_type": "code",
   "execution_count": 106,
   "id": "0323df92",
   "metadata": {},
   "outputs": [],
   "source": [
    "gb=GradientBoostingClassifier(n_estimators=1000)"
   ]
  },
  {
   "cell_type": "code",
   "execution_count": 107,
   "id": "4bd76188",
   "metadata": {},
   "outputs": [],
   "source": [
    "gbmodel=gb.fit(X_smote,y_smote)"
   ]
  },
  {
   "cell_type": "code",
   "execution_count": 108,
   "id": "a8b72a51",
   "metadata": {},
   "outputs": [
    {
     "data": {
      "text/plain": [
       "0.9122357399282011"
      ]
     },
     "execution_count": 108,
     "metadata": {},
     "output_type": "execute_result"
    }
   ],
   "source": [
    "gbmodel.score(X_smote,y_smote)"
   ]
  },
  {
   "cell_type": "code",
   "execution_count": 109,
   "id": "4ff47d0c",
   "metadata": {},
   "outputs": [
    {
     "data": {
      "text/plain": [
       "array([0.83680694, 0.91718189, 0.91902673, 0.92196849, 0.9205724 ])"
      ]
     },
     "execution_count": 109,
     "metadata": {},
     "output_type": "execute_result"
    }
   ],
   "source": [
    "cross_val_score(gb,X_smote,y_smote)"
   ]
  },
  {
   "cell_type": "code",
   "execution_count": 110,
   "id": "d6a9d350",
   "metadata": {},
   "outputs": [
    {
     "data": {
      "text/plain": [
       "0.90311129"
      ]
     },
     "execution_count": 110,
     "metadata": {},
     "output_type": "execute_result"
    }
   ],
   "source": [
    "np.mean([0.83680694, 0.91718189, 0.91902673, 0.92196849, 0.9205724 ])"
   ]
  },
  {
   "cell_type": "code",
   "execution_count": 115,
   "id": "8c666937",
   "metadata": {},
   "outputs": [],
   "source": [
    "gbpredict=gbmodel.predict(X_smote)"
   ]
  },
  {
   "cell_type": "code",
   "execution_count": 116,
   "id": "499915eb",
   "metadata": {},
   "outputs": [
    {
     "data": {
      "text/html": [
       "<div>\n",
       "<style scoped>\n",
       "    .dataframe tbody tr th:only-of-type {\n",
       "        vertical-align: middle;\n",
       "    }\n",
       "\n",
       "    .dataframe tbody tr th {\n",
       "        vertical-align: top;\n",
       "    }\n",
       "\n",
       "    .dataframe thead th {\n",
       "        text-align: right;\n",
       "    }\n",
       "</style>\n",
       "<table border=\"1\" class=\"dataframe\">\n",
       "  <thead>\n",
       "    <tr style=\"text-align: right;\">\n",
       "      <th>is_promoted</th>\n",
       "      <th>0</th>\n",
       "      <th>1</th>\n",
       "    </tr>\n",
       "    <tr>\n",
       "      <th>row_0</th>\n",
       "      <th></th>\n",
       "      <th></th>\n",
       "    </tr>\n",
       "  </thead>\n",
       "  <tbody>\n",
       "    <tr>\n",
       "      <th>0</th>\n",
       "      <td>44085</td>\n",
       "      <td>2746</td>\n",
       "    </tr>\n",
       "    <tr>\n",
       "      <th>1</th>\n",
       "      <td>6055</td>\n",
       "      <td>47394</td>\n",
       "    </tr>\n",
       "  </tbody>\n",
       "</table>\n",
       "</div>"
      ],
      "text/plain": [
       "is_promoted      0      1\n",
       "row_0                    \n",
       "0            44085   2746\n",
       "1             6055  47394"
      ]
     },
     "execution_count": 116,
     "metadata": {},
     "output_type": "execute_result"
    }
   ],
   "source": [
    "pd.crosstab(gbpredict,y_smote)"
   ]
  },
  {
   "cell_type": "code",
   "execution_count": null,
   "id": "8a2ac0e5",
   "metadata": {},
   "outputs": [],
   "source": [
    "print(classification_report(gbpredict,y))"
   ]
  },
  {
   "cell_type": "code",
   "execution_count": 111,
   "id": "a04a1f17",
   "metadata": {},
   "outputs": [],
   "source": [
    "gbpredict=gbmodel.predict(test_clean)"
   ]
  },
  {
   "cell_type": "code",
   "execution_count": 112,
   "id": "aa799356",
   "metadata": {},
   "outputs": [],
   "source": [
    "pd.DataFrame(gbpredict).to_csv('gb.csv')"
   ]
  },
  {
   "cell_type": "code",
   "execution_count": null,
   "id": "70117a21",
   "metadata": {},
   "outputs": [],
   "source": []
  }
 ],
 "metadata": {
  "kernelspec": {
   "display_name": "Python 3 (ipykernel)",
   "language": "python",
   "name": "python3"
  },
  "language_info": {
   "codemirror_mode": {
    "name": "ipython",
    "version": 3
   },
   "file_extension": ".py",
   "mimetype": "text/x-python",
   "name": "python",
   "nbconvert_exporter": "python",
   "pygments_lexer": "ipython3",
   "version": "3.9.15"
  }
 },
 "nbformat": 4,
 "nbformat_minor": 5
}
